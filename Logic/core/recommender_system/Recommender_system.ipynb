{
 "cells": [
  {
   "cell_type": "code",
   "metadata": {
    "colab": {
     "base_uri": "https://localhost:8080/"
    },
    "id": "5WP7WWcC71d0",
    "outputId": "5657cd83-924a-4cfd-f2b3-4087717dba0f",
    "ExecuteTime": {
     "end_time": "2024-06-27T19:12:24.085709Z",
     "start_time": "2024-06-27T19:12:24.057135Z"
    }
   },
   "source": [
    "from google.colab import drive\n",
    "drive.mount('/content/drive')"
   ],
   "outputs": [
    {
     "ename": "ModuleNotFoundError",
     "evalue": "No module named 'google.colab'",
     "output_type": "error",
     "traceback": [
      "\u001B[1;31m---------------------------------------------------------------------------\u001B[0m",
      "\u001B[1;31mModuleNotFoundError\u001B[0m                       Traceback (most recent call last)",
      "Cell \u001B[1;32mIn[2], line 1\u001B[0m\n\u001B[1;32m----> 1\u001B[0m \u001B[38;5;28;01mfrom\u001B[39;00m \u001B[38;5;21;01mgoogle\u001B[39;00m\u001B[38;5;21;01m.\u001B[39;00m\u001B[38;5;21;01mcolab\u001B[39;00m \u001B[38;5;28;01mimport\u001B[39;00m drive\n\u001B[0;32m      2\u001B[0m drive\u001B[38;5;241m.\u001B[39mmount(\u001B[38;5;124m'\u001B[39m\u001B[38;5;124m/content/drive\u001B[39m\u001B[38;5;124m'\u001B[39m)\n",
      "\u001B[1;31mModuleNotFoundError\u001B[0m: No module named 'google.colab'"
     ]
    }
   ],
   "execution_count": 2
  },
  {
   "cell_type": "code",
   "metadata": {
    "id": "d7T_DzAQCiLr",
    "ExecuteTime": {
     "end_time": "2024-06-27T19:36:43.774667Z",
     "start_time": "2024-06-27T19:36:43.301010Z"
    }
   },
   "source": [
    "import pandas as pd\n",
    "\n",
    "# path_to_files = \"/content/drive/MyDrive/recommender_system_files/\"\n",
    "path_to_files = \"./recommender_system_files/\"\n",
    "ratings = pd.read_csv(path_to_files + \"ratings.csv\", sep='\\t', encoding='latin-1',\n",
    "                      usecols=['user_id', 'movie_id', 'user_emb_id', 'movie_emb_id', 'rating'])\n",
    "\n",
    "movies = pd.read_csv(path_to_files + \"movies.csv\", sep='\\t', encoding='latin-1',\n",
    "                     usecols=['movie_id', 'title', 'genres'])"
   ],
   "outputs": [],
   "execution_count": 4
  },
  {
   "cell_type": "code",
   "metadata": {
    "colab": {
     "base_uri": "https://localhost:8080/",
     "height": 206
    },
    "id": "XfuH9tB45bjb",
    "outputId": "9c664330-5775-4301-9025-626b40f89938",
    "ExecuteTime": {
     "end_time": "2024-06-27T19:36:46.637585Z",
     "start_time": "2024-06-27T19:36:46.617370Z"
    }
   },
   "source": [
    "movies.head(5)"
   ],
   "outputs": [
    {
     "data": {
      "text/plain": [
       "   movie_id                               title                        genres\n",
       "0         1                    Toy Story (1995)   Animation|Children's|Comedy\n",
       "1         2                      Jumanji (1995)  Adventure|Children's|Fantasy\n",
       "2         3             Grumpier Old Men (1995)                Comedy|Romance\n",
       "3         4            Waiting to Exhale (1995)                  Comedy|Drama\n",
       "4         5  Father of the Bride Part II (1995)                        Comedy"
      ],
      "text/html": [
       "<div>\n",
       "<style scoped>\n",
       "    .dataframe tbody tr th:only-of-type {\n",
       "        vertical-align: middle;\n",
       "    }\n",
       "\n",
       "    .dataframe tbody tr th {\n",
       "        vertical-align: top;\n",
       "    }\n",
       "\n",
       "    .dataframe thead th {\n",
       "        text-align: right;\n",
       "    }\n",
       "</style>\n",
       "<table border=\"1\" class=\"dataframe\">\n",
       "  <thead>\n",
       "    <tr style=\"text-align: right;\">\n",
       "      <th></th>\n",
       "      <th>movie_id</th>\n",
       "      <th>title</th>\n",
       "      <th>genres</th>\n",
       "    </tr>\n",
       "  </thead>\n",
       "  <tbody>\n",
       "    <tr>\n",
       "      <th>0</th>\n",
       "      <td>1</td>\n",
       "      <td>Toy Story (1995)</td>\n",
       "      <td>Animation|Children's|Comedy</td>\n",
       "    </tr>\n",
       "    <tr>\n",
       "      <th>1</th>\n",
       "      <td>2</td>\n",
       "      <td>Jumanji (1995)</td>\n",
       "      <td>Adventure|Children's|Fantasy</td>\n",
       "    </tr>\n",
       "    <tr>\n",
       "      <th>2</th>\n",
       "      <td>3</td>\n",
       "      <td>Grumpier Old Men (1995)</td>\n",
       "      <td>Comedy|Romance</td>\n",
       "    </tr>\n",
       "    <tr>\n",
       "      <th>3</th>\n",
       "      <td>4</td>\n",
       "      <td>Waiting to Exhale (1995)</td>\n",
       "      <td>Comedy|Drama</td>\n",
       "    </tr>\n",
       "    <tr>\n",
       "      <th>4</th>\n",
       "      <td>5</td>\n",
       "      <td>Father of the Bride Part II (1995)</td>\n",
       "      <td>Comedy</td>\n",
       "    </tr>\n",
       "  </tbody>\n",
       "</table>\n",
       "</div>"
      ]
     },
     "execution_count": 5,
     "metadata": {},
     "output_type": "execute_result"
    }
   ],
   "execution_count": 5
  },
  {
   "cell_type": "code",
   "metadata": {
    "colab": {
     "base_uri": "https://localhost:8080/",
     "height": 206
    },
    "id": "AG7B-H2H4eKP",
    "outputId": "a9354bcd-bed5-44e0-f558-b2415e0e6011",
    "ExecuteTime": {
     "end_time": "2024-06-27T19:36:49.984063Z",
     "start_time": "2024-06-27T19:36:49.974950Z"
    }
   },
   "source": [
    "ratings.head(5)"
   ],
   "outputs": [
    {
     "data": {
      "text/plain": [
       "   user_id  movie_id  rating  user_emb_id  movie_emb_id\n",
       "0        1      1193       5            0          1192\n",
       "1        1       661       3            0           660\n",
       "2        1       914       3            0           913\n",
       "3        1      3408       4            0          3407\n",
       "4        1      2355       5            0          2354"
      ],
      "text/html": [
       "<div>\n",
       "<style scoped>\n",
       "    .dataframe tbody tr th:only-of-type {\n",
       "        vertical-align: middle;\n",
       "    }\n",
       "\n",
       "    .dataframe tbody tr th {\n",
       "        vertical-align: top;\n",
       "    }\n",
       "\n",
       "    .dataframe thead th {\n",
       "        text-align: right;\n",
       "    }\n",
       "</style>\n",
       "<table border=\"1\" class=\"dataframe\">\n",
       "  <thead>\n",
       "    <tr style=\"text-align: right;\">\n",
       "      <th></th>\n",
       "      <th>user_id</th>\n",
       "      <th>movie_id</th>\n",
       "      <th>rating</th>\n",
       "      <th>user_emb_id</th>\n",
       "      <th>movie_emb_id</th>\n",
       "    </tr>\n",
       "  </thead>\n",
       "  <tbody>\n",
       "    <tr>\n",
       "      <th>0</th>\n",
       "      <td>1</td>\n",
       "      <td>1193</td>\n",
       "      <td>5</td>\n",
       "      <td>0</td>\n",
       "      <td>1192</td>\n",
       "    </tr>\n",
       "    <tr>\n",
       "      <th>1</th>\n",
       "      <td>1</td>\n",
       "      <td>661</td>\n",
       "      <td>3</td>\n",
       "      <td>0</td>\n",
       "      <td>660</td>\n",
       "    </tr>\n",
       "    <tr>\n",
       "      <th>2</th>\n",
       "      <td>1</td>\n",
       "      <td>914</td>\n",
       "      <td>3</td>\n",
       "      <td>0</td>\n",
       "      <td>913</td>\n",
       "    </tr>\n",
       "    <tr>\n",
       "      <th>3</th>\n",
       "      <td>1</td>\n",
       "      <td>3408</td>\n",
       "      <td>4</td>\n",
       "      <td>0</td>\n",
       "      <td>3407</td>\n",
       "    </tr>\n",
       "    <tr>\n",
       "      <th>4</th>\n",
       "      <td>1</td>\n",
       "      <td>2355</td>\n",
       "      <td>5</td>\n",
       "      <td>0</td>\n",
       "      <td>2354</td>\n",
       "    </tr>\n",
       "  </tbody>\n",
       "</table>\n",
       "</div>"
      ]
     },
     "execution_count": 6,
     "metadata": {},
     "output_type": "execute_result"
    }
   ],
   "execution_count": 6
  },
  {
   "cell_type": "markdown",
   "metadata": {
    "id": "VszS9wr3tr-1"
   },
   "source": [
    "### Content Based\n",
    "\n",
    "**Objective**: Build a Content-Based Recommendation system that computes similarity between movies based on movie genres. It will suggest movies that are most similar to a particular movie based on its genre.\n",
    "\n",
    "**Dataset**:\n",
    "- **Movies Data**: DataFrame with columns `movie_id`, `title`, and `genres`.\n",
    "\n",
    "**Steps**:\n",
    "\n",
    "1. **Preprocess Data**:\n",
    "   - Split the `genres` column into separate genre strings.\n",
    "   - Fill any missing values in the `genres` column and convert it to string.\n",
    "\n",
    "2. **Compute TF-IDF Matrix**:\n",
    "   - Use `TfidfVectorizer` to transform the genres into a TF-IDF matrix.\n",
    "\n",
    "3. **Calculate Cosine Similarity**:\n",
    "   - Compute cosine similarity between the TF-IDF matrices of movies.\n",
    "\n",
    "4. **Recommend Movies**:\n",
    "   - Create a function that gets movie recommendations based on the cosine similarity score of movie genres."
   ]
  },
  {
   "cell_type": "code",
   "metadata": {
    "id": "H7yBCgOcLHdA",
    "ExecuteTime": {
     "end_time": "2024-06-27T19:36:55.041002Z",
     "start_time": "2024-06-27T19:36:54.967118Z"
    }
   },
   "source": [
    "movies['genres'] = movies['genres'].str.split('|')\n",
    "movies['genres'] = movies['genres'].fillna(\"\").astype('str')"
   ],
   "outputs": [],
   "execution_count": 7
  },
  {
   "cell_type": "code",
   "metadata": {
    "id": "mMRR5ZWCLIKW",
    "ExecuteTime": {
     "end_time": "2024-06-27T19:36:58.783825Z",
     "start_time": "2024-06-27T19:36:56.934406Z"
    }
   },
   "source": [
    "from sklearn.feature_extraction.text import TfidfVectorizer\n",
    "\n",
    "tf = TfidfVectorizer(analyzer='word',ngram_range=(1, 2),min_df=0, stop_words='english')\n",
    "tfidf_matrix = tf.fit_transform(movies['genres'])"
   ],
   "outputs": [],
   "execution_count": 8
  },
  {
   "cell_type": "code",
   "metadata": {
    "id": "z5ZkCc3ZLKMW",
    "ExecuteTime": {
     "end_time": "2024-06-27T19:36:59.874310Z",
     "start_time": "2024-06-27T19:36:59.680198Z"
    }
   },
   "source": [
    "from sklearn.metrics.pairwise import linear_kernel\n",
    "\n",
    "cosine_sim = linear_kernel(tfidf_matrix, tfidf_matrix)"
   ],
   "outputs": [],
   "execution_count": 9
  },
  {
   "cell_type": "code",
   "metadata": {
    "id": "SuZyCCz-vXz5",
    "ExecuteTime": {
     "end_time": "2024-06-27T19:39:30.779254Z",
     "start_time": "2024-06-27T19:39:30.772348Z"
    }
   },
   "source": [
    "# mapping movie titles to indices\n",
    "indices = pd.Series(movies.index, index=movies['title']).drop_duplicates()\n",
    "def genre_recommendations(title, n=10):\n",
    "    index = indices[title]  # index of our movie\n",
    "    sim_scores = list(enumerate(cosine_sim[index])) # similarity scores\n",
    "    sim_scores = sorted(sim_scores, key=lambda x: x[1], reverse=True)\n",
    "    sim_scores = sim_scores[1:n+1] # starting from 1 so that the movie itself doesn't come to number 1\n",
    "    movie_indices = [i[0] for i in sim_scores]\n",
    "    \n",
    "    return movies[['title', 'genres']].iloc[movie_indices]"
   ],
   "outputs": [],
   "execution_count": 12
  },
  {
   "cell_type": "code",
   "metadata": {
    "colab": {
     "base_uri": "https://localhost:8080/"
    },
    "id": "V2Nztyl3vYkd",
    "outputId": "86cba97f-2803-4493-8b4b-fbfa3d62be3c",
    "ExecuteTime": {
     "end_time": "2024-06-27T19:39:33.839350Z",
     "start_time": "2024-06-27T19:39:33.828051Z"
    }
   },
   "source": [
    "# Example\n",
    "genre_recommendations('GoldenEye (1995)')"
   ],
   "outputs": [
    {
     "data": {
      "text/plain": [
       "                                title                               genres\n",
       "345   Clear and Present Danger (1994)  ['Action', 'Adventure', 'Thriller']\n",
       "543         Surviving the Game (1994)  ['Action', 'Adventure', 'Thriller']\n",
       "724                  Rock, The (1996)  ['Action', 'Adventure', 'Thriller']\n",
       "788                   Daylight (1996)  ['Action', 'Adventure', 'Thriller']\n",
       "825             Chain Reaction (1996)  ['Action', 'Adventure', 'Thriller']\n",
       "978               Maximum Risk (1996)  ['Action', 'Adventure', 'Thriller']\n",
       "1467                  Anaconda (1997)  ['Action', 'Adventure', 'Thriller']\n",
       "1513                   Con Air (1997)  ['Action', 'Adventure', 'Thriller']\n",
       "1693                 Firestorm (1998)  ['Action', 'Adventure', 'Thriller']\n",
       "3686        Perfect Storm, The (2000)  ['Action', 'Adventure', 'Thriller']"
      ],
      "text/html": [
       "<div>\n",
       "<style scoped>\n",
       "    .dataframe tbody tr th:only-of-type {\n",
       "        vertical-align: middle;\n",
       "    }\n",
       "\n",
       "    .dataframe tbody tr th {\n",
       "        vertical-align: top;\n",
       "    }\n",
       "\n",
       "    .dataframe thead th {\n",
       "        text-align: right;\n",
       "    }\n",
       "</style>\n",
       "<table border=\"1\" class=\"dataframe\">\n",
       "  <thead>\n",
       "    <tr style=\"text-align: right;\">\n",
       "      <th></th>\n",
       "      <th>title</th>\n",
       "      <th>genres</th>\n",
       "    </tr>\n",
       "  </thead>\n",
       "  <tbody>\n",
       "    <tr>\n",
       "      <th>345</th>\n",
       "      <td>Clear and Present Danger (1994)</td>\n",
       "      <td>['Action', 'Adventure', 'Thriller']</td>\n",
       "    </tr>\n",
       "    <tr>\n",
       "      <th>543</th>\n",
       "      <td>Surviving the Game (1994)</td>\n",
       "      <td>['Action', 'Adventure', 'Thriller']</td>\n",
       "    </tr>\n",
       "    <tr>\n",
       "      <th>724</th>\n",
       "      <td>Rock, The (1996)</td>\n",
       "      <td>['Action', 'Adventure', 'Thriller']</td>\n",
       "    </tr>\n",
       "    <tr>\n",
       "      <th>788</th>\n",
       "      <td>Daylight (1996)</td>\n",
       "      <td>['Action', 'Adventure', 'Thriller']</td>\n",
       "    </tr>\n",
       "    <tr>\n",
       "      <th>825</th>\n",
       "      <td>Chain Reaction (1996)</td>\n",
       "      <td>['Action', 'Adventure', 'Thriller']</td>\n",
       "    </tr>\n",
       "    <tr>\n",
       "      <th>978</th>\n",
       "      <td>Maximum Risk (1996)</td>\n",
       "      <td>['Action', 'Adventure', 'Thriller']</td>\n",
       "    </tr>\n",
       "    <tr>\n",
       "      <th>1467</th>\n",
       "      <td>Anaconda (1997)</td>\n",
       "      <td>['Action', 'Adventure', 'Thriller']</td>\n",
       "    </tr>\n",
       "    <tr>\n",
       "      <th>1513</th>\n",
       "      <td>Con Air (1997)</td>\n",
       "      <td>['Action', 'Adventure', 'Thriller']</td>\n",
       "    </tr>\n",
       "    <tr>\n",
       "      <th>1693</th>\n",
       "      <td>Firestorm (1998)</td>\n",
       "      <td>['Action', 'Adventure', 'Thriller']</td>\n",
       "    </tr>\n",
       "    <tr>\n",
       "      <th>3686</th>\n",
       "      <td>Perfect Storm, The (2000)</td>\n",
       "      <td>['Action', 'Adventure', 'Thriller']</td>\n",
       "    </tr>\n",
       "  </tbody>\n",
       "</table>\n",
       "</div>"
      ]
     },
     "execution_count": 13,
     "metadata": {},
     "output_type": "execute_result"
    }
   ],
   "execution_count": 13
  },
  {
   "cell_type": "markdown",
   "metadata": {
    "id": "fzAN3JRjQLir"
   },
   "source": [
    "\n",
    "### Collaborative Filtering\n",
    "\n",
    "**Objective**: Implement a collaborative filtering movie recommendation system to recommend movies to a user based on similar users' spreferences.\n",
    "\n",
    "**Dataset**:\n",
    "\n",
    "- **Ratings Data**: DataFrame with columns `user_id`, `movie_id`, and `rating`.\n",
    "- **Movies Data**: DataFrame with columns `movie_id`, `title`, and `genres`.\n",
    "\n",
    "**Steps**:\n",
    "\n",
    "1. **Preprocess Data**:\n",
    "   - Merge `ratings` and `movies` DataFrames on `movie_id`.\n",
    "   - Split `genres` column into separate rows.\n",
    "\n",
    "2. **Create User-Genre Matrix**:\n",
    "   - Create a matrix where rows are users and columns are genres.\n",
    "   - Each cell represents the ratio of movies watched by the user in that genre to the total movies watched by the user.\n",
    "\n",
    "3. **Calculate User Similarity**:\n",
    "   - Use cosine similarity to calculate the similarity between users.\n",
    "\n",
    "4. **Find Top N Similar Users**:\n",
    "   - Find the top N users with the most similar preferences to the given user.\n",
    "\n",
    "5. **Recommend Movies**:\n",
    "   - Recommend movies that similar users have watched but the target user has not.\n",
    "   - Return titles and genres of the top 10 recommended movies."
   ]
  },
  {
   "cell_type": "code",
   "metadata": {
    "id": "F7OCOj_cLaZD",
    "ExecuteTime": {
     "end_time": "2024-06-27T21:14:23.042457Z",
     "start_time": "2024-06-27T21:14:23.038445Z"
    }
   },
   "source": [
    "import pandas as pd\n",
    "import numpy as np\n",
    "from sklearn.metrics.pairwise import cosine_similarity"
   ],
   "outputs": [],
   "execution_count": 89
  },
  {
   "cell_type": "code",
   "metadata": {
    "id": "i4yACSHKLa3B",
    "ExecuteTime": {
     "end_time": "2024-06-27T19:42:24.379056Z",
     "start_time": "2024-06-27T19:42:24.126151Z"
    }
   },
   "source": [
    "data = pd.merge(ratings, movies, on='movie_id')"
   ],
   "outputs": [],
   "execution_count": 15
  },
  {
   "cell_type": "code",
   "metadata": {
    "id": "4UYm-ewOMbsV",
    "ExecuteTime": {
     "end_time": "2024-06-27T19:42:35.255076Z",
     "start_time": "2024-06-27T19:42:35.243502Z"
    }
   },
   "source": [
    "data.head(5)"
   ],
   "outputs": [
    {
     "data": {
      "text/plain": [
       "   user_id  movie_id  rating  user_emb_id  movie_emb_id  \\\n",
       "0        1      1193       5            0          1192   \n",
       "1        1       661       3            0           660   \n",
       "2        1       914       3            0           913   \n",
       "3        1      3408       4            0          3407   \n",
       "4        1      2355       5            0          2354   \n",
       "\n",
       "                                    title  \\\n",
       "0  One Flew Over the Cuckoo's Nest (1975)   \n",
       "1        James and the Giant Peach (1996)   \n",
       "2                     My Fair Lady (1964)   \n",
       "3                  Erin Brockovich (2000)   \n",
       "4                    Bug's Life, A (1998)   \n",
       "\n",
       "                                   genres  \n",
       "0                               ['Drama']  \n",
       "1  ['Animation', \"Children's\", 'Musical']  \n",
       "2                  ['Musical', 'Romance']  \n",
       "3                               ['Drama']  \n",
       "4   ['Animation', \"Children's\", 'Comedy']  "
      ],
      "text/html": [
       "<div>\n",
       "<style scoped>\n",
       "    .dataframe tbody tr th:only-of-type {\n",
       "        vertical-align: middle;\n",
       "    }\n",
       "\n",
       "    .dataframe tbody tr th {\n",
       "        vertical-align: top;\n",
       "    }\n",
       "\n",
       "    .dataframe thead th {\n",
       "        text-align: right;\n",
       "    }\n",
       "</style>\n",
       "<table border=\"1\" class=\"dataframe\">\n",
       "  <thead>\n",
       "    <tr style=\"text-align: right;\">\n",
       "      <th></th>\n",
       "      <th>user_id</th>\n",
       "      <th>movie_id</th>\n",
       "      <th>rating</th>\n",
       "      <th>user_emb_id</th>\n",
       "      <th>movie_emb_id</th>\n",
       "      <th>title</th>\n",
       "      <th>genres</th>\n",
       "    </tr>\n",
       "  </thead>\n",
       "  <tbody>\n",
       "    <tr>\n",
       "      <th>0</th>\n",
       "      <td>1</td>\n",
       "      <td>1193</td>\n",
       "      <td>5</td>\n",
       "      <td>0</td>\n",
       "      <td>1192</td>\n",
       "      <td>One Flew Over the Cuckoo's Nest (1975)</td>\n",
       "      <td>['Drama']</td>\n",
       "    </tr>\n",
       "    <tr>\n",
       "      <th>1</th>\n",
       "      <td>1</td>\n",
       "      <td>661</td>\n",
       "      <td>3</td>\n",
       "      <td>0</td>\n",
       "      <td>660</td>\n",
       "      <td>James and the Giant Peach (1996)</td>\n",
       "      <td>['Animation', \"Children's\", 'Musical']</td>\n",
       "    </tr>\n",
       "    <tr>\n",
       "      <th>2</th>\n",
       "      <td>1</td>\n",
       "      <td>914</td>\n",
       "      <td>3</td>\n",
       "      <td>0</td>\n",
       "      <td>913</td>\n",
       "      <td>My Fair Lady (1964)</td>\n",
       "      <td>['Musical', 'Romance']</td>\n",
       "    </tr>\n",
       "    <tr>\n",
       "      <th>3</th>\n",
       "      <td>1</td>\n",
       "      <td>3408</td>\n",
       "      <td>4</td>\n",
       "      <td>0</td>\n",
       "      <td>3407</td>\n",
       "      <td>Erin Brockovich (2000)</td>\n",
       "      <td>['Drama']</td>\n",
       "    </tr>\n",
       "    <tr>\n",
       "      <th>4</th>\n",
       "      <td>1</td>\n",
       "      <td>2355</td>\n",
       "      <td>5</td>\n",
       "      <td>0</td>\n",
       "      <td>2354</td>\n",
       "      <td>Bug's Life, A (1998)</td>\n",
       "      <td>['Animation', \"Children's\", 'Comedy']</td>\n",
       "    </tr>\n",
       "  </tbody>\n",
       "</table>\n",
       "</div>"
      ]
     },
     "execution_count": 16,
     "metadata": {},
     "output_type": "execute_result"
    }
   ],
   "execution_count": 16
  },
  {
   "cell_type": "code",
   "metadata": {
    "id": "pm-nVWN9MdcJ",
    "ExecuteTime": {
     "end_time": "2024-06-27T21:21:38.469591Z",
     "start_time": "2024-06-27T21:21:29.489760Z"
    }
   },
   "source": [
    "# data = data.assign(genres=data['genres'].str.split('|')).explode('genres')\n",
    "# ensuring genres column is a list\n",
    "data['genres'] = data['genres'].apply(lambda x: eval(x) if isinstance(x, str) else x)\n",
    "# splitting genres column into separate rows\n",
    "data = data.explode('genres')"
   ],
   "outputs": [],
   "execution_count": 97
  },
  {
   "cell_type": "code",
   "metadata": {
    "id": "PmJJkBHqMfmx",
    "ExecuteTime": {
     "end_time": "2024-06-27T21:21:39.132663Z",
     "start_time": "2024-06-27T21:21:39.122968Z"
    }
   },
   "source": "data.head(5)",
   "outputs": [
    {
     "data": {
      "text/plain": [
       "   user_id  movie_id  rating  user_emb_id  movie_emb_id  \\\n",
       "0        1      1193       5            0          1192   \n",
       "1        1       661       3            0           660   \n",
       "1        1       661       3            0           660   \n",
       "1        1       661       3            0           660   \n",
       "2        1       914       3            0           913   \n",
       "\n",
       "                                    title      genres  \n",
       "0  One Flew Over the Cuckoo's Nest (1975)       Drama  \n",
       "1        James and the Giant Peach (1996)   Animation  \n",
       "1        James and the Giant Peach (1996)  Children's  \n",
       "1        James and the Giant Peach (1996)     Musical  \n",
       "2                     My Fair Lady (1964)     Musical  "
      ],
      "text/html": [
       "<div>\n",
       "<style scoped>\n",
       "    .dataframe tbody tr th:only-of-type {\n",
       "        vertical-align: middle;\n",
       "    }\n",
       "\n",
       "    .dataframe tbody tr th {\n",
       "        vertical-align: top;\n",
       "    }\n",
       "\n",
       "    .dataframe thead th {\n",
       "        text-align: right;\n",
       "    }\n",
       "</style>\n",
       "<table border=\"1\" class=\"dataframe\">\n",
       "  <thead>\n",
       "    <tr style=\"text-align: right;\">\n",
       "      <th></th>\n",
       "      <th>user_id</th>\n",
       "      <th>movie_id</th>\n",
       "      <th>rating</th>\n",
       "      <th>user_emb_id</th>\n",
       "      <th>movie_emb_id</th>\n",
       "      <th>title</th>\n",
       "      <th>genres</th>\n",
       "    </tr>\n",
       "  </thead>\n",
       "  <tbody>\n",
       "    <tr>\n",
       "      <th>0</th>\n",
       "      <td>1</td>\n",
       "      <td>1193</td>\n",
       "      <td>5</td>\n",
       "      <td>0</td>\n",
       "      <td>1192</td>\n",
       "      <td>One Flew Over the Cuckoo's Nest (1975)</td>\n",
       "      <td>Drama</td>\n",
       "    </tr>\n",
       "    <tr>\n",
       "      <th>1</th>\n",
       "      <td>1</td>\n",
       "      <td>661</td>\n",
       "      <td>3</td>\n",
       "      <td>0</td>\n",
       "      <td>660</td>\n",
       "      <td>James and the Giant Peach (1996)</td>\n",
       "      <td>Animation</td>\n",
       "    </tr>\n",
       "    <tr>\n",
       "      <th>1</th>\n",
       "      <td>1</td>\n",
       "      <td>661</td>\n",
       "      <td>3</td>\n",
       "      <td>0</td>\n",
       "      <td>660</td>\n",
       "      <td>James and the Giant Peach (1996)</td>\n",
       "      <td>Children's</td>\n",
       "    </tr>\n",
       "    <tr>\n",
       "      <th>1</th>\n",
       "      <td>1</td>\n",
       "      <td>661</td>\n",
       "      <td>3</td>\n",
       "      <td>0</td>\n",
       "      <td>660</td>\n",
       "      <td>James and the Giant Peach (1996)</td>\n",
       "      <td>Musical</td>\n",
       "    </tr>\n",
       "    <tr>\n",
       "      <th>2</th>\n",
       "      <td>1</td>\n",
       "      <td>914</td>\n",
       "      <td>3</td>\n",
       "      <td>0</td>\n",
       "      <td>913</td>\n",
       "      <td>My Fair Lady (1964)</td>\n",
       "      <td>Musical</td>\n",
       "    </tr>\n",
       "  </tbody>\n",
       "</table>\n",
       "</div>"
      ]
     },
     "execution_count": 98,
     "metadata": {},
     "output_type": "execute_result"
    }
   ],
   "execution_count": 98
  },
  {
   "metadata": {
    "ExecuteTime": {
     "end_time": "2024-06-27T21:21:57.787412Z",
     "start_time": "2024-06-27T21:21:57.495554Z"
    }
   },
   "cell_type": "code",
   "source": [
    "total_user_movie_counts = data.groupby('user_id').size().reset_index(name='total_movies')\n",
    "total_user_genres_counts = data.groupby(['user_id','genres']).size().reset_index(name='total_genres')\n",
    "\n",
    "user_genre_df = pd.merge(total_user_movie_counts, total_user_genres_counts, on=['user_id'], how='left')\n",
    "user_genre_df['genre_proportion'] = user_genre_df['total_genres'] / user_genre_df['total_movies']\n",
    "\n",
    "user_genre_df.head(5)"
   ],
   "outputs": [
    {
     "data": {
      "text/plain": [
       "   user_id  total_movies      genres  total_genres  genre_proportion\n",
       "0        1           116      Action             5          0.043103\n",
       "1        1           116   Adventure             5          0.043103\n",
       "2        1           116   Animation            18          0.155172\n",
       "3        1           116  Children's            20          0.172414\n",
       "4        1           116      Comedy            14          0.120690"
      ],
      "text/html": [
       "<div>\n",
       "<style scoped>\n",
       "    .dataframe tbody tr th:only-of-type {\n",
       "        vertical-align: middle;\n",
       "    }\n",
       "\n",
       "    .dataframe tbody tr th {\n",
       "        vertical-align: top;\n",
       "    }\n",
       "\n",
       "    .dataframe thead th {\n",
       "        text-align: right;\n",
       "    }\n",
       "</style>\n",
       "<table border=\"1\" class=\"dataframe\">\n",
       "  <thead>\n",
       "    <tr style=\"text-align: right;\">\n",
       "      <th></th>\n",
       "      <th>user_id</th>\n",
       "      <th>total_movies</th>\n",
       "      <th>genres</th>\n",
       "      <th>total_genres</th>\n",
       "      <th>genre_proportion</th>\n",
       "    </tr>\n",
       "  </thead>\n",
       "  <tbody>\n",
       "    <tr>\n",
       "      <th>0</th>\n",
       "      <td>1</td>\n",
       "      <td>116</td>\n",
       "      <td>Action</td>\n",
       "      <td>5</td>\n",
       "      <td>0.043103</td>\n",
       "    </tr>\n",
       "    <tr>\n",
       "      <th>1</th>\n",
       "      <td>1</td>\n",
       "      <td>116</td>\n",
       "      <td>Adventure</td>\n",
       "      <td>5</td>\n",
       "      <td>0.043103</td>\n",
       "    </tr>\n",
       "    <tr>\n",
       "      <th>2</th>\n",
       "      <td>1</td>\n",
       "      <td>116</td>\n",
       "      <td>Animation</td>\n",
       "      <td>18</td>\n",
       "      <td>0.155172</td>\n",
       "    </tr>\n",
       "    <tr>\n",
       "      <th>3</th>\n",
       "      <td>1</td>\n",
       "      <td>116</td>\n",
       "      <td>Children's</td>\n",
       "      <td>20</td>\n",
       "      <td>0.172414</td>\n",
       "    </tr>\n",
       "    <tr>\n",
       "      <th>4</th>\n",
       "      <td>1</td>\n",
       "      <td>116</td>\n",
       "      <td>Comedy</td>\n",
       "      <td>14</td>\n",
       "      <td>0.120690</td>\n",
       "    </tr>\n",
       "  </tbody>\n",
       "</table>\n",
       "</div>"
      ]
     },
     "execution_count": 99,
     "metadata": {},
     "output_type": "execute_result"
    }
   ],
   "execution_count": 99
  },
  {
   "metadata": {
    "ExecuteTime": {
     "end_time": "2024-06-27T21:24:14.005094Z",
     "start_time": "2024-06-27T21:24:13.972429Z"
    }
   },
   "cell_type": "code",
   "source": [
    "#and now that we have proportion of each genre to all movies\n",
    "user_genre_matrix = user_genre_df.pivot(index='user_id', columns='genres', values='genre_proportion')\n",
    "user_genre_matrix = user_genre_matrix.fillna(0)\n",
    "user_genre_matrix.head(5)\n"
   ],
   "outputs": [
    {
     "data": {
      "text/plain": [
       "genres     Action  Adventure  Animation  Children's    Comedy     Crime  \\\n",
       "user_id                                                                   \n",
       "1        0.043103   0.043103   0.155172    0.172414  0.120690  0.017241   \n",
       "2        0.194444   0.065972   0.000000    0.000000  0.086806  0.041667   \n",
       "3        0.186992   0.203252   0.024390    0.024390  0.243902  0.000000   \n",
       "4        0.327586   0.103448   0.000000    0.017241  0.000000  0.017241   \n",
       "5        0.088068   0.025568   0.011364    0.017045  0.159091  0.059659   \n",
       "\n",
       "genres   Documentary     Drama   Fantasy  Film-Noir    Horror   Musical  \\\n",
       "user_id                                                                   \n",
       "1           0.000000  0.181034  0.025862   0.000000  0.000000  0.120690   \n",
       "2           0.000000  0.274306  0.003472   0.003472  0.006944  0.000000   \n",
       "3           0.000000  0.065041  0.016260   0.000000  0.024390  0.008130   \n",
       "4           0.000000  0.103448  0.034483   0.000000  0.051724  0.000000   \n",
       "5           0.017045  0.295455  0.000000   0.008523  0.028409  0.008523   \n",
       "\n",
       "genres    Mystery   Romance    Sci-Fi  Thriller       War   Western  \n",
       "user_id                                                              \n",
       "1        0.000000  0.051724  0.025862  0.025862  0.017241  0.000000  \n",
       "2        0.010417  0.083333  0.059028  0.107639  0.052083  0.010417  \n",
       "3        0.008130  0.040650  0.048780  0.040650  0.016260  0.048780  \n",
       "4        0.000000  0.034483  0.155172  0.068966  0.051724  0.034483  \n",
       "5        0.022727  0.085227  0.042614  0.110795  0.017045  0.002841  "
      ],
      "text/html": [
       "<div>\n",
       "<style scoped>\n",
       "    .dataframe tbody tr th:only-of-type {\n",
       "        vertical-align: middle;\n",
       "    }\n",
       "\n",
       "    .dataframe tbody tr th {\n",
       "        vertical-align: top;\n",
       "    }\n",
       "\n",
       "    .dataframe thead th {\n",
       "        text-align: right;\n",
       "    }\n",
       "</style>\n",
       "<table border=\"1\" class=\"dataframe\">\n",
       "  <thead>\n",
       "    <tr style=\"text-align: right;\">\n",
       "      <th>genres</th>\n",
       "      <th>Action</th>\n",
       "      <th>Adventure</th>\n",
       "      <th>Animation</th>\n",
       "      <th>Children's</th>\n",
       "      <th>Comedy</th>\n",
       "      <th>Crime</th>\n",
       "      <th>Documentary</th>\n",
       "      <th>Drama</th>\n",
       "      <th>Fantasy</th>\n",
       "      <th>Film-Noir</th>\n",
       "      <th>Horror</th>\n",
       "      <th>Musical</th>\n",
       "      <th>Mystery</th>\n",
       "      <th>Romance</th>\n",
       "      <th>Sci-Fi</th>\n",
       "      <th>Thriller</th>\n",
       "      <th>War</th>\n",
       "      <th>Western</th>\n",
       "    </tr>\n",
       "    <tr>\n",
       "      <th>user_id</th>\n",
       "      <th></th>\n",
       "      <th></th>\n",
       "      <th></th>\n",
       "      <th></th>\n",
       "      <th></th>\n",
       "      <th></th>\n",
       "      <th></th>\n",
       "      <th></th>\n",
       "      <th></th>\n",
       "      <th></th>\n",
       "      <th></th>\n",
       "      <th></th>\n",
       "      <th></th>\n",
       "      <th></th>\n",
       "      <th></th>\n",
       "      <th></th>\n",
       "      <th></th>\n",
       "      <th></th>\n",
       "    </tr>\n",
       "  </thead>\n",
       "  <tbody>\n",
       "    <tr>\n",
       "      <th>1</th>\n",
       "      <td>0.043103</td>\n",
       "      <td>0.043103</td>\n",
       "      <td>0.155172</td>\n",
       "      <td>0.172414</td>\n",
       "      <td>0.120690</td>\n",
       "      <td>0.017241</td>\n",
       "      <td>0.000000</td>\n",
       "      <td>0.181034</td>\n",
       "      <td>0.025862</td>\n",
       "      <td>0.000000</td>\n",
       "      <td>0.000000</td>\n",
       "      <td>0.120690</td>\n",
       "      <td>0.000000</td>\n",
       "      <td>0.051724</td>\n",
       "      <td>0.025862</td>\n",
       "      <td>0.025862</td>\n",
       "      <td>0.017241</td>\n",
       "      <td>0.000000</td>\n",
       "    </tr>\n",
       "    <tr>\n",
       "      <th>2</th>\n",
       "      <td>0.194444</td>\n",
       "      <td>0.065972</td>\n",
       "      <td>0.000000</td>\n",
       "      <td>0.000000</td>\n",
       "      <td>0.086806</td>\n",
       "      <td>0.041667</td>\n",
       "      <td>0.000000</td>\n",
       "      <td>0.274306</td>\n",
       "      <td>0.003472</td>\n",
       "      <td>0.003472</td>\n",
       "      <td>0.006944</td>\n",
       "      <td>0.000000</td>\n",
       "      <td>0.010417</td>\n",
       "      <td>0.083333</td>\n",
       "      <td>0.059028</td>\n",
       "      <td>0.107639</td>\n",
       "      <td>0.052083</td>\n",
       "      <td>0.010417</td>\n",
       "    </tr>\n",
       "    <tr>\n",
       "      <th>3</th>\n",
       "      <td>0.186992</td>\n",
       "      <td>0.203252</td>\n",
       "      <td>0.024390</td>\n",
       "      <td>0.024390</td>\n",
       "      <td>0.243902</td>\n",
       "      <td>0.000000</td>\n",
       "      <td>0.000000</td>\n",
       "      <td>0.065041</td>\n",
       "      <td>0.016260</td>\n",
       "      <td>0.000000</td>\n",
       "      <td>0.024390</td>\n",
       "      <td>0.008130</td>\n",
       "      <td>0.008130</td>\n",
       "      <td>0.040650</td>\n",
       "      <td>0.048780</td>\n",
       "      <td>0.040650</td>\n",
       "      <td>0.016260</td>\n",
       "      <td>0.048780</td>\n",
       "    </tr>\n",
       "    <tr>\n",
       "      <th>4</th>\n",
       "      <td>0.327586</td>\n",
       "      <td>0.103448</td>\n",
       "      <td>0.000000</td>\n",
       "      <td>0.017241</td>\n",
       "      <td>0.000000</td>\n",
       "      <td>0.017241</td>\n",
       "      <td>0.000000</td>\n",
       "      <td>0.103448</td>\n",
       "      <td>0.034483</td>\n",
       "      <td>0.000000</td>\n",
       "      <td>0.051724</td>\n",
       "      <td>0.000000</td>\n",
       "      <td>0.000000</td>\n",
       "      <td>0.034483</td>\n",
       "      <td>0.155172</td>\n",
       "      <td>0.068966</td>\n",
       "      <td>0.051724</td>\n",
       "      <td>0.034483</td>\n",
       "    </tr>\n",
       "    <tr>\n",
       "      <th>5</th>\n",
       "      <td>0.088068</td>\n",
       "      <td>0.025568</td>\n",
       "      <td>0.011364</td>\n",
       "      <td>0.017045</td>\n",
       "      <td>0.159091</td>\n",
       "      <td>0.059659</td>\n",
       "      <td>0.017045</td>\n",
       "      <td>0.295455</td>\n",
       "      <td>0.000000</td>\n",
       "      <td>0.008523</td>\n",
       "      <td>0.028409</td>\n",
       "      <td>0.008523</td>\n",
       "      <td>0.022727</td>\n",
       "      <td>0.085227</td>\n",
       "      <td>0.042614</td>\n",
       "      <td>0.110795</td>\n",
       "      <td>0.017045</td>\n",
       "      <td>0.002841</td>\n",
       "    </tr>\n",
       "  </tbody>\n",
       "</table>\n",
       "</div>"
      ]
     },
     "execution_count": 105,
     "metadata": {},
     "output_type": "execute_result"
    }
   ],
   "execution_count": 105
  },
  {
   "cell_type": "code",
   "metadata": {
    "id": "kKDRWOLQdYYo",
    "ExecuteTime": {
     "end_time": "2024-06-27T21:25:24.708750Z",
     "start_time": "2024-06-27T21:25:24.699506Z"
    }
   },
   "source": [
    "def get_top_n_similar_users(user_id, n=5):\n",
    "    user_preferences = user_genre_matrix.loc[user_id].values.reshape(1,-1)\n",
    "    similarities = cosine_similarity(user_genre_matrix, user_preferences)\n",
    "    similar_users = similarities.flatten().argsort()[::-1][1:n+1]   # excluding user itself\n",
    "    return similar_users + 1\n",
    "\n",
    "get_top_n_similar_users(1, 5)"
   ],
   "outputs": [
    {
     "data": {
      "text/plain": [
       "array([4456, 1481, 4767, 5343, 4883], dtype=int64)"
      ]
     },
     "execution_count": 109,
     "metadata": {},
     "output_type": "execute_result"
    }
   ],
   "execution_count": 109
  },
  {
   "cell_type": "code",
   "metadata": {
    "id": "AFfL391uddRd",
    "ExecuteTime": {
     "end_time": "2024-06-27T21:36:49.097356Z",
     "start_time": "2024-06-27T21:36:49.091674Z"
    }
   },
   "source": [
    "\n",
    "def recommend_movies(user_id, n_similar_users=5, n_recommendations=10):\n",
    "    #TODO\n",
    "    similar_users = get_top_n_similar_users(user_id, n_similar_users)\n",
    "    similar_users_data = data[data['user_id'].isin(similar_users)]\n",
    "    target_user_data = data[data['user_id']==user_id]\n",
    "    target_user_movies = set(target_user_data['movie_id'])\n",
    "\n",
    "    similar_users_movies = similar_users_data[~similar_users_data['movie_id'].isin(target_user_movies)]\n",
    "\n",
    "    all_recommended_movies = similar_users_movies.groupby('movie_id').size().reset_index(name='count')\n",
    "    \n",
    "    top_recommended_movies = all_recommended_movies.sort_values(by='count', ascending=False)[:n_recommendations]\n",
    "    \n",
    "    top_movies = pd.merge(top_recommended_movies, movies, on='movie_id', how='left')[['movie_id', 'title', 'genres']]\n",
    "\n",
    "    return top_movies.sort_values(by=\"movie_id\")\n"
   ],
   "outputs": [],
   "execution_count": 148
  },
  {
   "cell_type": "code",
   "metadata": {
    "id": "jrw5w4ZGdgmz",
    "ExecuteTime": {
     "end_time": "2024-06-27T21:36:51.613551Z",
     "start_time": "2024-06-27T21:36:51.574164Z"
    }
   },
   "source": [
    "# Example\n",
    "user_id = 1\n",
    "recommended_movies = recommend_movies(user_id, n_similar_users=5, n_recommendations=10)\n",
    "recommended_movies\n"
   ],
   "outputs": [
    {
     "data": {
      "text/plain": [
       "   movie_id                       title  \\\n",
       "8        34                 Babe (1995)   \n",
       "9       912           Casablanca (1942)   \n",
       "3      1032  Alice in Wonderland (1951)   \n",
       "7      1282             Fantasia (1940)   \n",
       "2      1617    L.A. Confidential (1997)   \n",
       "4      2078     Jungle Book, The (1967)   \n",
       "1      2080   Lady and the Tramp (1955)   \n",
       "0      2081  Little Mermaid, The (1989)   \n",
       "5      2087            Peter Pan (1953)   \n",
       "6      2096      Sleeping Beauty (1959)   \n",
       "\n",
       "                                              genres  \n",
       "8                  [\"Children's\", 'Comedy', 'Drama']  \n",
       "9                        ['Drama', 'Romance', 'War']  \n",
       "3             ['Animation', \"Children's\", 'Musical']  \n",
       "7             ['Animation', \"Children's\", 'Musical']  \n",
       "2      ['Crime', 'Film-Noir', 'Mystery', 'Thriller']  \n",
       "4   ['Animation', \"Children's\", 'Comedy', 'Musical']  \n",
       "1  ['Animation', \"Children's\", 'Comedy', 'Musical...  \n",
       "0  ['Animation', \"Children's\", 'Comedy', 'Musical...  \n",
       "5  ['Animation', \"Children's\", 'Fantasy', 'Musical']  \n",
       "6             ['Animation', \"Children's\", 'Musical']  "
      ],
      "text/html": [
       "<div>\n",
       "<style scoped>\n",
       "    .dataframe tbody tr th:only-of-type {\n",
       "        vertical-align: middle;\n",
       "    }\n",
       "\n",
       "    .dataframe tbody tr th {\n",
       "        vertical-align: top;\n",
       "    }\n",
       "\n",
       "    .dataframe thead th {\n",
       "        text-align: right;\n",
       "    }\n",
       "</style>\n",
       "<table border=\"1\" class=\"dataframe\">\n",
       "  <thead>\n",
       "    <tr style=\"text-align: right;\">\n",
       "      <th></th>\n",
       "      <th>movie_id</th>\n",
       "      <th>title</th>\n",
       "      <th>genres</th>\n",
       "    </tr>\n",
       "  </thead>\n",
       "  <tbody>\n",
       "    <tr>\n",
       "      <th>8</th>\n",
       "      <td>34</td>\n",
       "      <td>Babe (1995)</td>\n",
       "      <td>[\"Children's\", 'Comedy', 'Drama']</td>\n",
       "    </tr>\n",
       "    <tr>\n",
       "      <th>9</th>\n",
       "      <td>912</td>\n",
       "      <td>Casablanca (1942)</td>\n",
       "      <td>['Drama', 'Romance', 'War']</td>\n",
       "    </tr>\n",
       "    <tr>\n",
       "      <th>3</th>\n",
       "      <td>1032</td>\n",
       "      <td>Alice in Wonderland (1951)</td>\n",
       "      <td>['Animation', \"Children's\", 'Musical']</td>\n",
       "    </tr>\n",
       "    <tr>\n",
       "      <th>7</th>\n",
       "      <td>1282</td>\n",
       "      <td>Fantasia (1940)</td>\n",
       "      <td>['Animation', \"Children's\", 'Musical']</td>\n",
       "    </tr>\n",
       "    <tr>\n",
       "      <th>2</th>\n",
       "      <td>1617</td>\n",
       "      <td>L.A. Confidential (1997)</td>\n",
       "      <td>['Crime', 'Film-Noir', 'Mystery', 'Thriller']</td>\n",
       "    </tr>\n",
       "    <tr>\n",
       "      <th>4</th>\n",
       "      <td>2078</td>\n",
       "      <td>Jungle Book, The (1967)</td>\n",
       "      <td>['Animation', \"Children's\", 'Comedy', 'Musical']</td>\n",
       "    </tr>\n",
       "    <tr>\n",
       "      <th>1</th>\n",
       "      <td>2080</td>\n",
       "      <td>Lady and the Tramp (1955)</td>\n",
       "      <td>['Animation', \"Children's\", 'Comedy', 'Musical...</td>\n",
       "    </tr>\n",
       "    <tr>\n",
       "      <th>0</th>\n",
       "      <td>2081</td>\n",
       "      <td>Little Mermaid, The (1989)</td>\n",
       "      <td>['Animation', \"Children's\", 'Comedy', 'Musical...</td>\n",
       "    </tr>\n",
       "    <tr>\n",
       "      <th>5</th>\n",
       "      <td>2087</td>\n",
       "      <td>Peter Pan (1953)</td>\n",
       "      <td>['Animation', \"Children's\", 'Fantasy', 'Musical']</td>\n",
       "    </tr>\n",
       "    <tr>\n",
       "      <th>6</th>\n",
       "      <td>2096</td>\n",
       "      <td>Sleeping Beauty (1959)</td>\n",
       "      <td>['Animation', \"Children's\", 'Musical']</td>\n",
       "    </tr>\n",
       "  </tbody>\n",
       "</table>\n",
       "</div>"
      ]
     },
     "execution_count": 149,
     "metadata": {},
     "output_type": "execute_result"
    }
   ],
   "execution_count": 149
  },
  {
   "cell_type": "markdown",
   "metadata": {
    "id": "F8rQ5EfYyxHe"
   },
   "source": [
    "### SVD (Singular Value Decomposition)\n",
    "\n"
   ]
  },
  {
   "cell_type": "markdown",
   "metadata": {
    "id": "rg58Uuv43VHl"
   },
   "source": [
    "**Objective**: Implement an SVD-based recommendation system to recommend movies to users by decomposing the user-item interaction matrix into latent factors.\n",
    "\n",
    "**Dataset**:\n",
    "- **Ratings Data**: DataFrame with columns `user_id`, `movie_id`, and `rating`.\n",
    "- **Movies Data**: DataFrame with columns `movie_id`, `title`, and `genres`.\n",
    "\n",
    "**Steps**:\n",
    "\n",
    "1. **Preprocess Data**:\n",
    "   - Merge `ratings` and `movies` DataFrames on `movie_id`.\n",
    "   - Create a user-item matrix where rows represent users, columns represent movies, and the values are the ratings.\n",
    "\n",
    "2. **Decompose Matrix using SVD**:\n",
    "   - Apply Singular Value Decomposition (SVD) to decompose the user-item matrix into three matrices: $U$, $\\Sigma$, and $V^T$.\n",
    "\n",
    "3. **Reconstruct Matrix**:\n",
    "   - Reconstruct the user-item matrix using the top $k$ singular values to reduce dimensionality.\n",
    "\n",
    "4. **Predict Ratings**:\n",
    "   - Use the reconstructed matrix to predict ratings for all user-item pairs.\n",
    "\n",
    "5. **Recommend Movies**:\n",
    "   - Recommend the top 20 movies with the highest predicted ratings for a given user that the user hasn't rated yet."
   ]
  },
  {
   "cell_type": "code",
   "metadata": {
    "id": "cR6nM0Xh9-RU",
    "ExecuteTime": {
     "end_time": "2024-06-27T21:38:49.643846Z",
     "start_time": "2024-06-27T21:38:49.616754Z"
    }
   },
   "source": [
    "n_users = ratings.user_id.unique().shape[0]\n",
    "n_movies = ratings.movie_id.unique().shape[0]\n",
    "print('Number of users = ' + str(n_users) + ' | Number of movies = ' + str(n_movies))"
   ],
   "outputs": [
    {
     "name": "stdout",
     "output_type": "stream",
     "text": [
      "Number of users = 6040 | Number of movies = 3706\n"
     ]
    }
   ],
   "execution_count": 153
  },
  {
   "cell_type": "markdown",
   "metadata": {
    "id": "AejbQ3PmSaPk"
   },
   "source": [
    "Fill na elements."
   ]
  },
  {
   "cell_type": "code",
   "metadata": {
    "id": "0gXWDE2b-SjD",
    "ExecuteTime": {
     "end_time": "2024-06-27T21:44:18.529262Z",
     "start_time": "2024-06-27T21:44:17.841904Z"
    }
   },
   "source": [
    "Ratings = ratings.pivot(index = 'user_id', columns ='movie_id', values = 'rating').fillna(0)\n",
    "# Ratings.head()"
   ],
   "outputs": [],
   "execution_count": 164
  },
  {
   "cell_type": "code",
   "metadata": {
    "id": "Ue3HMeeX-XVz",
    "ExecuteTime": {
     "end_time": "2024-06-27T21:44:19.288071Z",
     "start_time": "2024-06-27T21:44:19.283516Z"
    }
   },
   "source": [
    "# calculate rating matrix\n",
    "ratings_matrix = Ratings.to_numpy()"
   ],
   "outputs": [],
   "execution_count": 165
  },
  {
   "cell_type": "code",
   "metadata": {
    "id": "Cto_bTMN08Uu",
    "ExecuteTime": {
     "end_time": "2024-06-27T21:44:26.283397Z",
     "start_time": "2024-06-27T21:44:20.578793Z"
    }
   },
   "source": [
    "from scipy.sparse.linalg import svds\n",
    "\n",
    "U, sigma, Vt = svds(ratings_matrix, k=50)\n",
    "sigma = np.diag(sigma)"
   ],
   "outputs": [],
   "execution_count": 166
  },
  {
   "cell_type": "code",
   "metadata": {
    "id": "lEdVW5cG-8CM",
    "ExecuteTime": {
     "end_time": "2024-06-27T21:44:26.395140Z",
     "start_time": "2024-06-27T21:44:26.284849Z"
    }
   },
   "source": "all_user_predicted_ratings = np.dot(np.dot(U, sigma), Vt)\n",
   "outputs": [],
   "execution_count": 167
  },
  {
   "cell_type": "code",
   "metadata": {
    "colab": {
     "base_uri": "https://localhost:8080/",
     "height": 255
    },
    "id": "QEiw1_bA_AUT",
    "outputId": "7bbc6752-1c64-44eb-8056-933b5e313ca9",
    "ExecuteTime": {
     "end_time": "2024-06-27T21:49:48.824210Z",
     "start_time": "2024-06-27T21:49:48.819037Z"
    }
   },
   "source": [
    "preds = pd.DataFrame(all_user_predicted_ratings, columns=Ratings.columns)\n",
    "# predictions.head()"
   ],
   "outputs": [],
   "execution_count": 176
  },
  {
   "cell_type": "code",
   "metadata": {
    "id": "tGNw2vZe_Hnb",
    "ExecuteTime": {
     "end_time": "2024-06-27T21:54:49.377601Z",
     "start_time": "2024-06-27T21:54:49.370663Z"
    }
   },
   "source": [
    "def recommend_movies(predictions, userID, movies, original_ratings, num_recommendations):\n",
    "    \n",
    "    user_row_number = userID - 1 # User ID starts at 1, not 0\n",
    "    sorted_user_predictions = predictions.iloc[user_row_number].sort_values(ascending=False)\n",
    "\n",
    "    user_data = original_ratings[original_ratings.user_id == userID]\n",
    "\n",
    "    # merge movies data with user_data\n",
    "    user_full = user_data.merge(movies, on='movie_id', how='left').sort_values(['rating'], ascending=False)\n",
    "    \n",
    "    print(f'User {userID} has already rated {user_full.shape[0]} movies.')\n",
    "    print(f'Recommending highest {num_recommendations} predicted ratings movies not already rated.')\n",
    "\n",
    "    recommendations = movies[~movies['movie_id'].isin(user_full['movie_id'])]\n",
    "    recommendations = recommendations.merge(pd.DataFrame(sorted_user_predictions).reset_index(),on='movie_id', how='left')\n",
    "    recommendations = recommendations.rename(columns={user_row_number: \"Predictions\"}).sort_values(by='Predictions', ascending=False)\n",
    "    \n",
    "    return user_full, recommendations\n"
   ],
   "outputs": [],
   "execution_count": 189
  },
  {
   "cell_type": "code",
   "metadata": {
    "colab": {
     "base_uri": "https://localhost:8080/"
    },
    "id": "hzz8KwhR_PPD",
    "outputId": "31262e36-c7c6-43ad-8ff5-0e3b2bbacccc",
    "ExecuteTime": {
     "end_time": "2024-06-27T21:54:53.030745Z",
     "start_time": "2024-06-27T21:54:53.015721Z"
    }
   },
   "source": "already_rated, predictions = recommend_movies(preds, 4375, movies, ratings, 20)",
   "outputs": [
    {
     "name": "stdout",
     "output_type": "stream",
     "text": [
      "User 4375 has already rated 325 movies.\n",
      "Recommending highest 20 predicted ratings movies not already rated.\n"
     ]
    }
   ],
   "execution_count": 190
  },
  {
   "cell_type": "code",
   "metadata": {
    "colab": {
     "base_uri": "https://localhost:8080/",
     "height": 676
    },
    "id": "hwgZ2-RCAOgb",
    "outputId": "758489af-38d3-42f8-ae42-dc3003f9e5b6",
    "ExecuteTime": {
     "end_time": "2024-06-27T21:54:55.426733Z",
     "start_time": "2024-06-27T21:54:55.416916Z"
    }
   },
   "source": [
    "ratings.head(20)"
   ],
   "outputs": [
    {
     "data": {
      "text/plain": [
       "    user_id  movie_id  rating  user_emb_id  movie_emb_id\n",
       "0         1      1193       5            0          1192\n",
       "1         1       661       3            0           660\n",
       "2         1       914       3            0           913\n",
       "3         1      3408       4            0          3407\n",
       "4         1      2355       5            0          2354\n",
       "5         1      1197       3            0          1196\n",
       "6         1      1287       5            0          1286\n",
       "7         1      2804       5            0          2803\n",
       "8         1       594       4            0           593\n",
       "9         1       919       4            0           918\n",
       "10        1       595       5            0           594\n",
       "11        1       938       4            0           937\n",
       "12        1      2398       4            0          2397\n",
       "13        1      2918       4            0          2917\n",
       "14        1      1035       5            0          1034\n",
       "15        1      2791       4            0          2790\n",
       "16        1      2687       3            0          2686\n",
       "17        1      2018       4            0          2017\n",
       "18        1      3105       5            0          3104\n",
       "19        1      2797       4            0          2796"
      ],
      "text/html": [
       "<div>\n",
       "<style scoped>\n",
       "    .dataframe tbody tr th:only-of-type {\n",
       "        vertical-align: middle;\n",
       "    }\n",
       "\n",
       "    .dataframe tbody tr th {\n",
       "        vertical-align: top;\n",
       "    }\n",
       "\n",
       "    .dataframe thead th {\n",
       "        text-align: right;\n",
       "    }\n",
       "</style>\n",
       "<table border=\"1\" class=\"dataframe\">\n",
       "  <thead>\n",
       "    <tr style=\"text-align: right;\">\n",
       "      <th></th>\n",
       "      <th>user_id</th>\n",
       "      <th>movie_id</th>\n",
       "      <th>rating</th>\n",
       "      <th>user_emb_id</th>\n",
       "      <th>movie_emb_id</th>\n",
       "    </tr>\n",
       "  </thead>\n",
       "  <tbody>\n",
       "    <tr>\n",
       "      <th>0</th>\n",
       "      <td>1</td>\n",
       "      <td>1193</td>\n",
       "      <td>5</td>\n",
       "      <td>0</td>\n",
       "      <td>1192</td>\n",
       "    </tr>\n",
       "    <tr>\n",
       "      <th>1</th>\n",
       "      <td>1</td>\n",
       "      <td>661</td>\n",
       "      <td>3</td>\n",
       "      <td>0</td>\n",
       "      <td>660</td>\n",
       "    </tr>\n",
       "    <tr>\n",
       "      <th>2</th>\n",
       "      <td>1</td>\n",
       "      <td>914</td>\n",
       "      <td>3</td>\n",
       "      <td>0</td>\n",
       "      <td>913</td>\n",
       "    </tr>\n",
       "    <tr>\n",
       "      <th>3</th>\n",
       "      <td>1</td>\n",
       "      <td>3408</td>\n",
       "      <td>4</td>\n",
       "      <td>0</td>\n",
       "      <td>3407</td>\n",
       "    </tr>\n",
       "    <tr>\n",
       "      <th>4</th>\n",
       "      <td>1</td>\n",
       "      <td>2355</td>\n",
       "      <td>5</td>\n",
       "      <td>0</td>\n",
       "      <td>2354</td>\n",
       "    </tr>\n",
       "    <tr>\n",
       "      <th>5</th>\n",
       "      <td>1</td>\n",
       "      <td>1197</td>\n",
       "      <td>3</td>\n",
       "      <td>0</td>\n",
       "      <td>1196</td>\n",
       "    </tr>\n",
       "    <tr>\n",
       "      <th>6</th>\n",
       "      <td>1</td>\n",
       "      <td>1287</td>\n",
       "      <td>5</td>\n",
       "      <td>0</td>\n",
       "      <td>1286</td>\n",
       "    </tr>\n",
       "    <tr>\n",
       "      <th>7</th>\n",
       "      <td>1</td>\n",
       "      <td>2804</td>\n",
       "      <td>5</td>\n",
       "      <td>0</td>\n",
       "      <td>2803</td>\n",
       "    </tr>\n",
       "    <tr>\n",
       "      <th>8</th>\n",
       "      <td>1</td>\n",
       "      <td>594</td>\n",
       "      <td>4</td>\n",
       "      <td>0</td>\n",
       "      <td>593</td>\n",
       "    </tr>\n",
       "    <tr>\n",
       "      <th>9</th>\n",
       "      <td>1</td>\n",
       "      <td>919</td>\n",
       "      <td>4</td>\n",
       "      <td>0</td>\n",
       "      <td>918</td>\n",
       "    </tr>\n",
       "    <tr>\n",
       "      <th>10</th>\n",
       "      <td>1</td>\n",
       "      <td>595</td>\n",
       "      <td>5</td>\n",
       "      <td>0</td>\n",
       "      <td>594</td>\n",
       "    </tr>\n",
       "    <tr>\n",
       "      <th>11</th>\n",
       "      <td>1</td>\n",
       "      <td>938</td>\n",
       "      <td>4</td>\n",
       "      <td>0</td>\n",
       "      <td>937</td>\n",
       "    </tr>\n",
       "    <tr>\n",
       "      <th>12</th>\n",
       "      <td>1</td>\n",
       "      <td>2398</td>\n",
       "      <td>4</td>\n",
       "      <td>0</td>\n",
       "      <td>2397</td>\n",
       "    </tr>\n",
       "    <tr>\n",
       "      <th>13</th>\n",
       "      <td>1</td>\n",
       "      <td>2918</td>\n",
       "      <td>4</td>\n",
       "      <td>0</td>\n",
       "      <td>2917</td>\n",
       "    </tr>\n",
       "    <tr>\n",
       "      <th>14</th>\n",
       "      <td>1</td>\n",
       "      <td>1035</td>\n",
       "      <td>5</td>\n",
       "      <td>0</td>\n",
       "      <td>1034</td>\n",
       "    </tr>\n",
       "    <tr>\n",
       "      <th>15</th>\n",
       "      <td>1</td>\n",
       "      <td>2791</td>\n",
       "      <td>4</td>\n",
       "      <td>0</td>\n",
       "      <td>2790</td>\n",
       "    </tr>\n",
       "    <tr>\n",
       "      <th>16</th>\n",
       "      <td>1</td>\n",
       "      <td>2687</td>\n",
       "      <td>3</td>\n",
       "      <td>0</td>\n",
       "      <td>2686</td>\n",
       "    </tr>\n",
       "    <tr>\n",
       "      <th>17</th>\n",
       "      <td>1</td>\n",
       "      <td>2018</td>\n",
       "      <td>4</td>\n",
       "      <td>0</td>\n",
       "      <td>2017</td>\n",
       "    </tr>\n",
       "    <tr>\n",
       "      <th>18</th>\n",
       "      <td>1</td>\n",
       "      <td>3105</td>\n",
       "      <td>5</td>\n",
       "      <td>0</td>\n",
       "      <td>3104</td>\n",
       "    </tr>\n",
       "    <tr>\n",
       "      <th>19</th>\n",
       "      <td>1</td>\n",
       "      <td>2797</td>\n",
       "      <td>4</td>\n",
       "      <td>0</td>\n",
       "      <td>2796</td>\n",
       "    </tr>\n",
       "  </tbody>\n",
       "</table>\n",
       "</div>"
      ]
     },
     "execution_count": 191,
     "metadata": {},
     "output_type": "execute_result"
    }
   ],
   "execution_count": 191
  },
  {
   "cell_type": "code",
   "metadata": {
    "colab": {
     "base_uri": "https://localhost:8080/",
     "height": 676
    },
    "id": "wXy5tpV5_Qu0",
    "outputId": "6490fde7-f208-4c33-f1bd-a4e4ca8979a0",
    "ExecuteTime": {
     "end_time": "2024-06-27T21:54:57.628551Z",
     "start_time": "2024-06-27T21:54:57.618095Z"
    }
   },
   "source": [
    "# Top 20 movies that User 4375 has rated\n",
    "already_rated.head(20)"
   ],
   "outputs": [
    {
     "data": {
      "text/plain": [
       "     user_id  movie_id  rating  user_emb_id  movie_emb_id  \\\n",
       "195     4375      3250       5         4374          3249   \n",
       "285     4375       175       5         4374           174   \n",
       "199     4375      3257       5         4374          3256   \n",
       "65      4375      3809       5         4374          3808   \n",
       "210     4375      2688       5         4374          2687   \n",
       "270     4375       150       5         4374           149   \n",
       "271     4375      2710       5         4374          2709   \n",
       "125     4375       349       5         4374           348   \n",
       "60      4375       288       5         4374           287   \n",
       "141     4375        47       5         4374            46   \n",
       "237     4375      1347       5         4374          1346   \n",
       "57      4375      3499       5         4374          3498   \n",
       "143     4375      1982       5         4374          1981   \n",
       "277     4375       165       5         4374           164   \n",
       "54      4375      1888       5         4374          1887   \n",
       "53      4375       267       5         4374           266   \n",
       "144     4375      1983       5         4374          1982   \n",
       "51      4375       253       5         4374           252   \n",
       "50      4375      2803       5         4374          2802   \n",
       "280     4375      3386       5         4374          3385   \n",
       "\n",
       "                                 title  \\\n",
       "195                       Alive (1993)   \n",
       "285                        Kids (1995)   \n",
       "199              Bodyguard, The (1992)   \n",
       "65              What About Bob? (1991)   \n",
       "210     General's Daughter, The (1999)   \n",
       "270                   Apollo 13 (1995)   \n",
       "271    Blair Witch Project, The (1999)   \n",
       "125    Clear and Present Danger (1994)   \n",
       "60         Natural Born Killers (1994)   \n",
       "141               Seven (Se7en) (1995)   \n",
       "237  Nightmare on Elm Street, A (1984)   \n",
       "57                       Misery (1990)   \n",
       "143                   Halloween (1978)   \n",
       "277  Die Hard: With a Vengeance (1995)   \n",
       "54                  Hope Floats (1998)   \n",
       "53                  Major Payne (1994)   \n",
       "144                Halloween II (1981)   \n",
       "51   Interview with the Vampire (1994)   \n",
       "50           Pelican Brief, The (1993)   \n",
       "280                         JFK (1991)   \n",
       "\n",
       "                                         genres  \n",
       "195                                   ['Drama']  \n",
       "285                                   ['Drama']  \n",
       "199  ['Action', 'Drama', 'Romance', 'Thriller']  \n",
       "65                                   ['Comedy']  \n",
       "210                       ['Drama', 'Thriller']  \n",
       "270                                   ['Drama']  \n",
       "271                                  ['Horror']  \n",
       "125         ['Action', 'Adventure', 'Thriller']  \n",
       "60                       ['Action', 'Thriller']  \n",
       "141                       ['Crime', 'Thriller']  \n",
       "237                                  ['Horror']  \n",
       "57                                   ['Horror']  \n",
       "143                                  ['Horror']  \n",
       "277                      ['Action', 'Thriller']  \n",
       "54               ['Comedy', 'Drama', 'Romance']  \n",
       "53                                   ['Comedy']  \n",
       "144                                  ['Horror']  \n",
       "51                          ['Drama', 'Horror']  \n",
       "50                                 ['Thriller']  \n",
       "280                        ['Drama', 'Mystery']  "
      ],
      "text/html": [
       "<div>\n",
       "<style scoped>\n",
       "    .dataframe tbody tr th:only-of-type {\n",
       "        vertical-align: middle;\n",
       "    }\n",
       "\n",
       "    .dataframe tbody tr th {\n",
       "        vertical-align: top;\n",
       "    }\n",
       "\n",
       "    .dataframe thead th {\n",
       "        text-align: right;\n",
       "    }\n",
       "</style>\n",
       "<table border=\"1\" class=\"dataframe\">\n",
       "  <thead>\n",
       "    <tr style=\"text-align: right;\">\n",
       "      <th></th>\n",
       "      <th>user_id</th>\n",
       "      <th>movie_id</th>\n",
       "      <th>rating</th>\n",
       "      <th>user_emb_id</th>\n",
       "      <th>movie_emb_id</th>\n",
       "      <th>title</th>\n",
       "      <th>genres</th>\n",
       "    </tr>\n",
       "  </thead>\n",
       "  <tbody>\n",
       "    <tr>\n",
       "      <th>195</th>\n",
       "      <td>4375</td>\n",
       "      <td>3250</td>\n",
       "      <td>5</td>\n",
       "      <td>4374</td>\n",
       "      <td>3249</td>\n",
       "      <td>Alive (1993)</td>\n",
       "      <td>['Drama']</td>\n",
       "    </tr>\n",
       "    <tr>\n",
       "      <th>285</th>\n",
       "      <td>4375</td>\n",
       "      <td>175</td>\n",
       "      <td>5</td>\n",
       "      <td>4374</td>\n",
       "      <td>174</td>\n",
       "      <td>Kids (1995)</td>\n",
       "      <td>['Drama']</td>\n",
       "    </tr>\n",
       "    <tr>\n",
       "      <th>199</th>\n",
       "      <td>4375</td>\n",
       "      <td>3257</td>\n",
       "      <td>5</td>\n",
       "      <td>4374</td>\n",
       "      <td>3256</td>\n",
       "      <td>Bodyguard, The (1992)</td>\n",
       "      <td>['Action', 'Drama', 'Romance', 'Thriller']</td>\n",
       "    </tr>\n",
       "    <tr>\n",
       "      <th>65</th>\n",
       "      <td>4375</td>\n",
       "      <td>3809</td>\n",
       "      <td>5</td>\n",
       "      <td>4374</td>\n",
       "      <td>3808</td>\n",
       "      <td>What About Bob? (1991)</td>\n",
       "      <td>['Comedy']</td>\n",
       "    </tr>\n",
       "    <tr>\n",
       "      <th>210</th>\n",
       "      <td>4375</td>\n",
       "      <td>2688</td>\n",
       "      <td>5</td>\n",
       "      <td>4374</td>\n",
       "      <td>2687</td>\n",
       "      <td>General's Daughter, The (1999)</td>\n",
       "      <td>['Drama', 'Thriller']</td>\n",
       "    </tr>\n",
       "    <tr>\n",
       "      <th>270</th>\n",
       "      <td>4375</td>\n",
       "      <td>150</td>\n",
       "      <td>5</td>\n",
       "      <td>4374</td>\n",
       "      <td>149</td>\n",
       "      <td>Apollo 13 (1995)</td>\n",
       "      <td>['Drama']</td>\n",
       "    </tr>\n",
       "    <tr>\n",
       "      <th>271</th>\n",
       "      <td>4375</td>\n",
       "      <td>2710</td>\n",
       "      <td>5</td>\n",
       "      <td>4374</td>\n",
       "      <td>2709</td>\n",
       "      <td>Blair Witch Project, The (1999)</td>\n",
       "      <td>['Horror']</td>\n",
       "    </tr>\n",
       "    <tr>\n",
       "      <th>125</th>\n",
       "      <td>4375</td>\n",
       "      <td>349</td>\n",
       "      <td>5</td>\n",
       "      <td>4374</td>\n",
       "      <td>348</td>\n",
       "      <td>Clear and Present Danger (1994)</td>\n",
       "      <td>['Action', 'Adventure', 'Thriller']</td>\n",
       "    </tr>\n",
       "    <tr>\n",
       "      <th>60</th>\n",
       "      <td>4375</td>\n",
       "      <td>288</td>\n",
       "      <td>5</td>\n",
       "      <td>4374</td>\n",
       "      <td>287</td>\n",
       "      <td>Natural Born Killers (1994)</td>\n",
       "      <td>['Action', 'Thriller']</td>\n",
       "    </tr>\n",
       "    <tr>\n",
       "      <th>141</th>\n",
       "      <td>4375</td>\n",
       "      <td>47</td>\n",
       "      <td>5</td>\n",
       "      <td>4374</td>\n",
       "      <td>46</td>\n",
       "      <td>Seven (Se7en) (1995)</td>\n",
       "      <td>['Crime', 'Thriller']</td>\n",
       "    </tr>\n",
       "    <tr>\n",
       "      <th>237</th>\n",
       "      <td>4375</td>\n",
       "      <td>1347</td>\n",
       "      <td>5</td>\n",
       "      <td>4374</td>\n",
       "      <td>1346</td>\n",
       "      <td>Nightmare on Elm Street, A (1984)</td>\n",
       "      <td>['Horror']</td>\n",
       "    </tr>\n",
       "    <tr>\n",
       "      <th>57</th>\n",
       "      <td>4375</td>\n",
       "      <td>3499</td>\n",
       "      <td>5</td>\n",
       "      <td>4374</td>\n",
       "      <td>3498</td>\n",
       "      <td>Misery (1990)</td>\n",
       "      <td>['Horror']</td>\n",
       "    </tr>\n",
       "    <tr>\n",
       "      <th>143</th>\n",
       "      <td>4375</td>\n",
       "      <td>1982</td>\n",
       "      <td>5</td>\n",
       "      <td>4374</td>\n",
       "      <td>1981</td>\n",
       "      <td>Halloween (1978)</td>\n",
       "      <td>['Horror']</td>\n",
       "    </tr>\n",
       "    <tr>\n",
       "      <th>277</th>\n",
       "      <td>4375</td>\n",
       "      <td>165</td>\n",
       "      <td>5</td>\n",
       "      <td>4374</td>\n",
       "      <td>164</td>\n",
       "      <td>Die Hard: With a Vengeance (1995)</td>\n",
       "      <td>['Action', 'Thriller']</td>\n",
       "    </tr>\n",
       "    <tr>\n",
       "      <th>54</th>\n",
       "      <td>4375</td>\n",
       "      <td>1888</td>\n",
       "      <td>5</td>\n",
       "      <td>4374</td>\n",
       "      <td>1887</td>\n",
       "      <td>Hope Floats (1998)</td>\n",
       "      <td>['Comedy', 'Drama', 'Romance']</td>\n",
       "    </tr>\n",
       "    <tr>\n",
       "      <th>53</th>\n",
       "      <td>4375</td>\n",
       "      <td>267</td>\n",
       "      <td>5</td>\n",
       "      <td>4374</td>\n",
       "      <td>266</td>\n",
       "      <td>Major Payne (1994)</td>\n",
       "      <td>['Comedy']</td>\n",
       "    </tr>\n",
       "    <tr>\n",
       "      <th>144</th>\n",
       "      <td>4375</td>\n",
       "      <td>1983</td>\n",
       "      <td>5</td>\n",
       "      <td>4374</td>\n",
       "      <td>1982</td>\n",
       "      <td>Halloween II (1981)</td>\n",
       "      <td>['Horror']</td>\n",
       "    </tr>\n",
       "    <tr>\n",
       "      <th>51</th>\n",
       "      <td>4375</td>\n",
       "      <td>253</td>\n",
       "      <td>5</td>\n",
       "      <td>4374</td>\n",
       "      <td>252</td>\n",
       "      <td>Interview with the Vampire (1994)</td>\n",
       "      <td>['Drama', 'Horror']</td>\n",
       "    </tr>\n",
       "    <tr>\n",
       "      <th>50</th>\n",
       "      <td>4375</td>\n",
       "      <td>2803</td>\n",
       "      <td>5</td>\n",
       "      <td>4374</td>\n",
       "      <td>2802</td>\n",
       "      <td>Pelican Brief, The (1993)</td>\n",
       "      <td>['Thriller']</td>\n",
       "    </tr>\n",
       "    <tr>\n",
       "      <th>280</th>\n",
       "      <td>4375</td>\n",
       "      <td>3386</td>\n",
       "      <td>5</td>\n",
       "      <td>4374</td>\n",
       "      <td>3385</td>\n",
       "      <td>JFK (1991)</td>\n",
       "      <td>['Drama', 'Mystery']</td>\n",
       "    </tr>\n",
       "  </tbody>\n",
       "</table>\n",
       "</div>"
      ]
     },
     "execution_count": 192,
     "metadata": {},
     "output_type": "execute_result"
    }
   ],
   "execution_count": 192
  },
  {
   "cell_type": "markdown",
   "metadata": {
    "id": "t5g9DqGv00wK"
   },
   "source": [
    "#### Evaluation"
   ]
  },
  {
   "cell_type": "code",
   "metadata": {
    "colab": {
     "base_uri": "https://localhost:8080/"
    },
    "id": "XL1O76fF4w-D",
    "outputId": "f632c245-fea9-4eb9-f375-6458c7b49b97",
    "ExecuteTime": {
     "end_time": "2024-06-27T22:00:54.916102Z",
     "start_time": "2024-06-27T22:00:41.939184Z"
    }
   },
   "source": [
    "from sklearn.model_selection import train_test_split\n",
    "from sklearn.metrics import mean_squared_error\n",
    "from math import sqrt\n",
    "\n",
    "train_data, test_data = train_test_split(ratings, test_size=0.2, random_state=40)\n",
    "\n",
    "train_ratings = train_data.pivot(index='user_id', columns='movie_id', values='rating').fillna(0)\n",
    "\n",
    "R_train = train_ratings.values\n",
    "user_ratings_mean_train = np.mean(R_train, axis=1)\n",
    "Ratings_demeaned_train = R_train - user_ratings_mean_train.reshape(-1, 1)\n",
    "\n",
    "U_train, sigma_train, Vt_train = svds(Ratings_demeaned_train, k=50)\n",
    "sigma_train = np.diag(sigma_train)\n",
    "\n",
    "all_user_predicted_ratings_train = np.dot(np.dot(U_train, sigma_train), Vt_train) + user_ratings_mean_train.reshape(-1, 1)\n",
    "\n",
    "preds_train = pd.DataFrame(all_user_predicted_ratings_train, columns=train_ratings.columns)\n",
    "\n",
    "def predict_rating(user_id, movie_id):\n",
    "    try:\n",
    "        user_row_number = user_id - 1  # User ID starts at 1, not 0\n",
    "        prediction = preds_train.iloc[user_row_number, movie_id]\n",
    "    except:\n",
    "        prediction = np.nan\n",
    "    return prediction\n",
    "\n",
    "test_data['predicted_rating'] = test_data.apply(lambda x: predict_rating(x['user_id'], x['movie_id']), axis=1)\n",
    "\n",
    "test_data.dropna(inplace=True)\n",
    "\n",
    "rmse = sqrt(mean_squared_error(test_data['rating'], test_data['predicted_rating']))\n",
    "print(f'Root Mean Squared Error: {rmse}')\n"
   ],
   "outputs": [
    {
     "name": "stdout",
     "output_type": "stream",
     "text": [
      "Root Mean Squared Error: 3.5301000025783873\n"
     ]
    }
   ],
   "execution_count": 193
  },
  {
   "cell_type": "markdown",
   "metadata": {
    "id": "ASbIipkUgPuh"
   },
   "source": [
    "### Nueral Network Model (Recommender Model)\n",
    "\n"
   ]
  },
  {
   "cell_type": "markdown",
   "metadata": {
    "id": "eOTExLKq3dIl"
   },
   "source": [
    "**Objective**: Implement a Recommender model to recommend movies to a user based on similar users' preferences.\n",
    "\n",
    "**Dataset**:\n",
    "- **Ratings Data**: DataFrame with columns `user_id`, `movie_id`, and `rating`.\n",
    "- **Movies Data**: DataFrame with columns `movie_id`, `title`, and `genres`.\n",
    "\n",
    "**Steps**:\n",
    "\n",
    "1. **Define Dataset and DataLoader**:\n",
    "   - Create a custom PyTorch `Dataset` for ratings.\n",
    "   - Create a DataLoader for batching and shuffling data.\n",
    "\n",
    "2. **Define the Neural Network**:\n",
    "   - Create a neural network with embedding layers for users and movies.\n",
    "\n",
    "3. **Train the Model**:\n",
    "   - Train the model using Mean Squared Error loss and Adam optimizer.\n",
    "   - Save model checkpoints.\n",
    "\n",
    "4. **Evaluate the Model**:\n",
    "   - Calculate RMSE on the entire dataset.\n",
    "\n",
    "5. **Predict Ratings for Unrated Movies**:\n",
    "   - Predict and recommend top 10 unrated movies for a given user."
   ]
  },
  {
   "cell_type": "code",
   "execution_count": null,
   "metadata": {
    "id": "7eiOWdgZQIeb"
   },
   "outputs": [],
   "source": [
    "from torch.utils.data import Dataset, DataLoader\n",
    "import torch\n",
    "import torch.nn as nn"
   ]
  },
  {
   "cell_type": "code",
   "execution_count": null,
   "metadata": {
    "id": "uBgFFkt16-IO"
   },
   "outputs": [],
   "source": [
    "# Define the dataset\n",
    "class RatingsDataset(Dataset):\n",
    "    def __init__(self, ratings):\n",
    "        #TODO\n",
    "        pass\n",
    "\n",
    "    def __len__(self):\n",
    "        #TODO\n",
    "        pass\n",
    "\n",
    "    def __getitem__(self, idx):\n",
    "        #TODO\n",
    "        pass\n",
    "\n",
    "# Define the neural network\n",
    "class RecommenderNet(nn.Module):\n",
    "    def __init__(self, num_users, num_movies, embedding_size=50):\n",
    "        super(RecommenderNet, self).__init__()\n",
    "        #TODO\n",
    "        pass\n",
    "\n",
    "    def forward(self, user, movie):\n",
    "        #TODO\n",
    "        pass\n",
    "\n",
    "# Create the dataset and dataloader\n",
    "\n",
    "\n",
    "# Initialize the model, loss function and optimizer\n",
    "\n",
    "\n",
    "# Training loop\n",
    "\n",
    "\n",
    "# Evaluation\n"
   ]
  },
  {
   "cell_type": "code",
   "execution_count": null,
   "metadata": {
    "id": "CjU9mSxz0e0i"
   },
   "outputs": [],
   "source": [
    "# Example\n",
    "\n",
    "sample_user_id = 1\n",
    "sample_user_data = ratings[ratings['user_id'] == sample_user_id]\n",
    "sample_dataset = RatingsDataset(sample_user_data)\n",
    "sample_dataloader = DataLoader(sample_dataset, batch_size=1, shuffle=False)\n",
    "\n",
    "print(f'Sample predictions for user ID {sample_user_id}:')\n",
    "with torch.no_grad():\n",
    "    for user, movie, rating in sample_dataloader:\n",
    "        output = model(user, movie).squeeze()\n",
    "        print(f'Movie ID: {movie.item()}, Predicted Rating: {output.item()}, Actual Rating: {rating.item()}')"
   ]
  },
  {
   "cell_type": "code",
   "execution_count": null,
   "metadata": {
    "colab": {
     "base_uri": "https://localhost:8080/"
    },
    "id": "94kou8gVluPq",
    "outputId": "f2cd7975-dc1e-4033-b6d6-b25f7f207f1c"
   },
   "outputs": [
    {
     "name": "stdout",
     "output_type": "stream",
     "text": [
      "      movie_id                             title             genres  \\\n",
      "1235      3338            For All Mankind (1989)        Documentary   \n",
      "227       1704          Good Will Hunting (1997)              Drama   \n",
      "1792      1797                    Everest (1998)        Documentary   \n",
      "114        318  Shawshank Redemption, The (1994)              Drama   \n",
      "2638       669                  Aparajito (1956)              Drama   \n",
      "100        920         Gone with the Wind (1939)  Drama|Romance|War   \n",
      "3341       598            Window to Paris (1994)             Comedy   \n",
      "497        428              Bronx Tale, A (1993)              Drama   \n",
      "74        1198    Raiders of the Lost Ark (1981)   Action|Adventure   \n",
      "3359      2503           Apple, The (Sib) (1998)              Drama   \n",
      "\n",
      "      predicted_rating  \n",
      "1235          4.692185  \n",
      "227           4.664774  \n",
      "1792          4.663356  \n",
      "114           4.659920  \n",
      "2638          4.656652  \n",
      "100           4.645355  \n",
      "3341          4.635198  \n",
      "497           4.633163  \n",
      "74            4.629745  \n",
      "3359          4.627198  \n"
     ]
    }
   ],
   "source": [
    "def predict_unrated_movies(user_id, model, ratings, movies):\n",
    "    #TODO\n",
    "    pass\n",
    "\n",
    "\n",
    "# Example\n",
    "user_id = 1\n",
    "predictions = predict_unrated_movies(user_id, model, ratings, movies)\n",
    "print(predictions)"
   ]
  },
  {
   "cell_type": "markdown",
   "metadata": {
    "id": "at9-Uddo0sB8"
   },
   "source": [
    "### GMM (Gaussian Mixture Model)"
   ]
  },
  {
   "cell_type": "markdown",
   "metadata": {
    "id": "GhT3dnRv3hAc"
   },
   "source": [
    "**Objective**: Use a Gaussian Mixture Model to analyze and cluster the click data based on the number of clicks from different locations, aiming to identify distinct patterns of user behavior across 10 countries.\n",
    "\n",
    "**Dataset**:\n",
    "- **Click Data**: DataFrame with columns `link_id`, `location`, and `number_of_clicks`.\n",
    "\n",
    "**Steps**:\n",
    "\n",
    "1. **Preprocess Data**:\n",
    "   - Ensure the dataset contains 10 distinct countries.\n",
    "   - Create a matrix where rows represent different links and columns represent the number of clicks from each country.\n",
    "   - Normalize the number of clicks to account for different scales.\n",
    "\n",
    "2. **Fit GMM**:\n",
    "   - Apply a Gaussian Mixture Model (GMM) to the click data matrix to identify clusters of links with similar click patterns across different countries.\n",
    "\n",
    "3. **Evaluate Model**:\n",
    "   - Analyze the resulting model by calculating the log lokelihood, BIC and AIC metrics.\n"
   ]
  },
  {
   "cell_type": "code",
   "execution_count": null,
   "metadata": {
    "id": "Ug6I8y2lx55u"
   },
   "outputs": [],
   "source": [
    "import pandas as pd\n",
    "import numpy as np\n",
    "from sklearn.mixture import GaussianMixture\n",
    "import matplotlib.pyplot as plt\n",
    "\n",
    "file_path = # TODO\n",
    "df = pd.read_csv(file_path)\n",
    "\n",
    "\n",
    "gmm = # TODO\n",
    "\n",
    "log_likelihood = # TODO\n",
    "bic = # TODO\n",
    "aic = # TODO\n",
    "\n",
    "print(f\"Log-Likelihood: {log_likelihood}\")\n",
    "print(f\"BIC: {bic}\")\n",
    "print(f\"AIC: {aic}\")"
   ]
  }
 ],
 "metadata": {
  "colab": {
   "collapsed_sections": [
    "ASbIipkUgPuh",
    "at9-Uddo0sB8"
   ],
   "gpuType": "T4",
   "provenance": []
  },
  "kernelspec": {
   "display_name": "Python 3 (ipykernel)",
   "name": "python3",
   "language": "python"
  },
  "language_info": {
   "name": "python"
  }
 },
 "nbformat": 4,
 "nbformat_minor": 0
}
